{
 "cells": [
  {
   "cell_type": "code",
   "execution_count": 6,
   "id": "fa56e9e9",
   "metadata": {},
   "outputs": [],
   "source": [
    "import sqlite3\n",
    "import streamlit as st\n",
    "import pandas as pd"
   ]
  },
  {
   "cell_type": "markdown",
   "id": "4924d670",
   "metadata": {},
   "source": [
    "## Creating an SQLite Database"
   ]
  },
  {
   "cell_type": "code",
   "execution_count": 7,
   "id": "13c1fcc3",
   "metadata": {},
   "outputs": [],
   "source": [
    "connection = sqlite3.connect(\"example.db\")"
   ]
  },
  {
   "cell_type": "code",
   "execution_count": 8,
   "id": "0b657db7",
   "metadata": {},
   "outputs": [
    {
     "data": {
      "text/plain": [
       "<sqlite3.Connection at 0x1300621f970>"
      ]
     },
     "execution_count": 8,
     "metadata": {},
     "output_type": "execute_result"
    }
   ],
   "source": [
    "connection"
   ]
  },
  {
   "cell_type": "code",
   "execution_count": 9,
   "id": "e3afeb87",
   "metadata": {},
   "outputs": [],
   "source": [
    "cur = connection.cursor()"
   ]
  },
  {
   "cell_type": "code",
   "execution_count": 10,
   "id": "ee697cc9",
   "metadata": {},
   "outputs": [
    {
     "data": {
      "text/plain": [
       "<sqlite3.Cursor at 0x1300ae18ac0>"
      ]
     },
     "execution_count": 10,
     "metadata": {},
     "output_type": "execute_result"
    }
   ],
   "source": [
    "cur"
   ]
  },
  {
   "cell_type": "markdown",
   "id": "d1227cd9",
   "metadata": {},
   "source": [
    "## Creating a table named 'Movie'"
   ]
  },
  {
   "cell_type": "code",
   "execution_count": 11,
   "id": "a6489ac0",
   "metadata": {},
   "outputs": [
    {
     "ename": "OperationalError",
     "evalue": "table Movie already exists",
     "output_type": "error",
     "traceback": [
      "\u001b[1;31m---------------------------------------------------------------------------\u001b[0m",
      "\u001b[1;31mOperationalError\u001b[0m                          Traceback (most recent call last)",
      "Cell \u001b[1;32mIn[11], line 1\u001b[0m\n\u001b[1;32m----> 1\u001b[0m cur\u001b[38;5;241m.\u001b[39mexecute(\u001b[38;5;124m\"\u001b[39m\u001b[38;5;124mCREATE TABLE Movie(Title TEXT, Year INT, Score REAL)\u001b[39m\u001b[38;5;124m\"\u001b[39m)\n",
      "\u001b[1;31mOperationalError\u001b[0m: table Movie already exists"
     ]
    }
   ],
   "source": [
    "cur.execute(\"CREATE TABLE Movie(Title TEXT, Year INT, Score REAL)\")"
   ]
  },
  {
   "cell_type": "code",
   "execution_count": null,
   "id": "463bc28a",
   "metadata": {},
   "outputs": [],
   "source": [
    "res = cur.execute(\"SELECT name FROM sqlite_master\")\n",
    "res.fetchall()"
   ]
  },
  {
   "cell_type": "markdown",
   "id": "60123b61",
   "metadata": {},
   "source": [
    "## Inserting data into 'Movie'"
   ]
  },
  {
   "cell_type": "code",
   "execution_count": null,
   "id": "7796f718",
   "metadata": {},
   "outputs": [],
   "source": [
    "data = [\n",
    "    (\"The Shawshank Redemption\", 1994, 9.3),\n",
    "    (\"The Godfather\", 1972, 9.2),\n",
    "    (\"The Dark Knight\", 2008, 9.0),\n",
    "    (\"Pulp Fiction\", 1994, 8.9),\n",
    "    (\"Schindler's List\", 1993, 9.0),\n",
    "    (\"The Lord of the Rings: The Return of the King\", 2003, 8.9),\n",
    "    (\"Forrest Gump\", 1994, 8.8),\n",
    "    (\"Inception\", 2010, 8.8),\n",
    "    (\"Fight Club\", 1999, 8.8),\n",
    "    (\"The Matrix\", 1999, 8.7),\n",
    "    (\"The Empire Strikes Back\", 1980, 8.7),\n",
    "    (\"Interstellar\", 2014, 8.6),\n",
    "    (\"Parasite\", 2019, 8.5),\n",
    "    (\"Gladiator\", 2000, 8.5),\n",
    "    (\"Saving Private Ryan\", 1998, 8.6),\n",
    "    (\"The Lion King\", 1994, 8.5),\n",
    "    (\"The Green Mile\", 1999, 8.6),\n",
    "    (\"Avengers: Endgame\", 2019, 8.4),\n",
    "    (\"Braveheart\", 1995, 8.4),\n",
    "    (\"The Departed\", 2006, 8.5)\n",
    "]"
   ]
  },
  {
   "cell_type": "code",
   "execution_count": null,
   "id": "3e569fc8",
   "metadata": {},
   "outputs": [],
   "source": [
    "cur.executemany(\"INSERT INTO Movie VALUES(?, ?, ?)\", data)"
   ]
  },
  {
   "cell_type": "code",
   "execution_count": null,
   "id": "6b258000",
   "metadata": {},
   "outputs": [],
   "source": [
    "connection.commit()"
   ]
  },
  {
   "cell_type": "code",
   "execution_count": null,
   "id": "787171b3",
   "metadata": {},
   "outputs": [],
   "source": [
    "res = cur.execute(\"SELECT * FROM Movie\")\n",
    "res.fetchall()"
   ]
  },
  {
   "cell_type": "code",
   "execution_count": null,
   "id": "ff21122b",
   "metadata": {},
   "outputs": [],
   "source": [
    "res.description"
   ]
  },
  {
   "cell_type": "markdown",
   "id": "bb9657cd",
   "metadata": {},
   "source": [
    "## Creating dataframe out of the response"
   ]
  },
  {
   "cell_type": "code",
   "execution_count": null,
   "id": "b9052ba1",
   "metadata": {},
   "outputs": [],
   "source": [
    "column_names = [desc[0] for desc in res.description]\n",
    "column_names"
   ]
  },
  {
   "cell_type": "code",
   "execution_count": null,
   "id": "245a9688",
   "metadata": {},
   "outputs": [],
   "source": [
    "res = cur.execute(\"SELECT * FROM Movie\")\n",
    "data = res.fetchall()"
   ]
  },
  {
   "cell_type": "code",
   "execution_count": null,
   "id": "bb8dcce6",
   "metadata": {},
   "outputs": [],
   "source": [
    "data"
   ]
  },
  {
   "cell_type": "code",
   "execution_count": null,
   "id": "3c1b7e07",
   "metadata": {},
   "outputs": [],
   "source": [
    "df = pd.DataFrame(data=data, columns=column_names)"
   ]
  },
  {
   "cell_type": "code",
   "execution_count": null,
   "id": "633208cb",
   "metadata": {},
   "outputs": [],
   "source": [
    "df"
   ]
  },
  {
   "cell_type": "code",
   "execution_count": null,
   "id": "7dc9bd20",
   "metadata": {},
   "outputs": [],
   "source": [
    "connection.close()"
   ]
  },
  {
   "cell_type": "code",
   "execution_count": null,
   "id": "6d569441",
   "metadata": {},
   "outputs": [],
   "source": [
    "connection = sqlite3.connect(\"example.db\")"
   ]
  },
  {
   "cell_type": "code",
   "execution_count": null,
   "id": "3e03c62b",
   "metadata": {},
   "outputs": [],
   "source": [
    "cur = connection.cursor()"
   ]
  },
  {
   "cell_type": "code",
   "execution_count": null,
   "id": "c05d383f",
   "metadata": {},
   "outputs": [],
   "source": [
    "res = cur.execute(\"SELECT * FROM Movie\")\n",
    "res.fetchall()"
   ]
  },
  {
   "cell_type": "code",
   "execution_count": null,
   "id": "6ce9c7bf",
   "metadata": {},
   "outputs": [],
   "source": [
    "connection.close()"
   ]
  },
  {
   "cell_type": "markdown",
   "id": "6fd10b83",
   "metadata": {},
   "source": [
    "## Retrieve data as a Dataframe given query"
   ]
  },
  {
   "cell_type": "code",
   "execution_count": 36,
   "id": "22f7aa17",
   "metadata": {},
   "outputs": [],
   "source": [
    "import sqlite3\n",
    "import pandas as pd\n",
    "\n",
    "def retrieve_data(db_name: str, query: str):\n",
    "    \"\"\"\n",
    "    Function takes in an SQL Query as input and\n",
    "    returns a pandas dataframe created from the retrieved data\n",
    "    \"\"\"\n",
    "    # Connecting to Database\n",
    "    connection = sqlite3.connect(db_name)\n",
    "    # Creating database Cursor\n",
    "    cur = connection.cursor()\n",
    "    # Executing SQL query on the databse\n",
    "    res = cur.execute(query)\n",
    "    # Comit\n",
    "    connection.commit()\n",
    "    # Storing retrieved data\n",
    "    data = res.fetchall()\n",
    "    # If query was for retrieval, return dataframe\n",
    "    if res.description:\n",
    "        # Retrieving Column names from res if the query was for retrieval\n",
    "        columns = [desc[0] for desc in res.description]\n",
    "        # Creating the dataframe\n",
    "        df = pd.DataFrame(data=data, columns=columns)\n",
    "        # Closing Connection\n",
    "        connection.close()\n",
    "        return df\n",
    "    # Closing Connection\n",
    "    connection.close()"
   ]
  },
  {
   "cell_type": "code",
   "execution_count": null,
   "id": "d9e21aea",
   "metadata": {},
   "outputs": [],
   "source": [
    "df = retrieve_data(\"example.db\", \"SELECT * FROM Movie\\n\")\n",
    "df"
   ]
  },
  {
   "cell_type": "markdown",
   "id": "6218da1b",
   "metadata": {},
   "source": [
    "## Call Gemini API to convert Natural Language to SQL"
   ]
  },
  {
   "cell_type": "code",
   "execution_count": 65,
   "id": "2fdce8b0",
   "metadata": {},
   "outputs": [],
   "source": [
    "import os\n",
    "from dotenv import load_dotenv\n",
    "\n",
    "import google.generativeai as genai\n",
    "\n",
    "# Loading all environment variables\n",
    "load_dotenv()\n",
    "\n",
    "# Fetching the API KEY\n",
    "genai.configure(api_key=os.getenv(\"GOOGLE_API_KEY\"))\n",
    "\n",
    "system_instruction = \"\"\"Return only the SQL Query as a string response and nothing else, without any headings, prefixes or suffixes,\n",
    "                        even if the query is multi-line.\n",
    "                        Also replace apostrophes within text elements in the query with 2 single quotes, to avoid Syntax Error when\n",
    "                        executing SQL Commands.\n",
    "                        You are a data engineer. Your task is to convert natural language queries into SQL Commands,\n",
    "                        which can be used to query an SQLite database. You will be given table names and columns names.\n",
    "                        If table name is not given in the prompt, see if the table name was mentioned earlier in the chat history.\n",
    "                        \"\"\"\n",
    "# Setting model to be used\n",
    "model = genai.GenerativeModel(\"gemini-1.5-flash\",\n",
    "                             system_instruction=system_instruction)\n",
    "\n",
    "# starting chat_session\n",
    "chat_session = model.start_chat()\n",
    "\n",
    "# Function to convert natural language to SQL\n",
    "def nl_to_sql(prompt: str, chat=chat_session) -> str:\n",
    "    sql = chat.send_message(prompt).text\n",
    "    return sql   "
   ]
  },
  {
   "cell_type": "code",
   "execution_count": 2,
   "id": "c14f00cd",
   "metadata": {},
   "outputs": [
    {
     "name": "stdout",
     "output_type": "stream",
     "text": [
      "SELECT * FROM Movie\n",
      "\n"
     ]
    }
   ],
   "source": [
    "print(nl_to_sql(\"retrieve all data from table Movie\"))"
   ]
  },
  {
   "cell_type": "code",
   "execution_count": 3,
   "id": "6f7daf37",
   "metadata": {},
   "outputs": [
    {
     "name": "stdout",
     "output_type": "stream",
     "text": [
      "SELECT * FROM Movie LIMIT 1\n",
      "\n"
     ]
    }
   ],
   "source": [
    "print(nl_to_sql(\"retrieve first row from that table\"))"
   ]
  },
  {
   "cell_type": "code",
   "execution_count": null,
   "id": "bf2096ca",
   "metadata": {},
   "outputs": [],
   "source": [
    "print(nl_to_sql(\"Sum of values in Score column\"))"
   ]
  },
  {
   "cell_type": "code",
   "execution_count": null,
   "id": "701e1f04",
   "metadata": {},
   "outputs": [],
   "source": [
    "nl_to_sql(\"retrieve all data from table Movie\")"
   ]
  },
  {
   "cell_type": "markdown",
   "id": "81bdf84d",
   "metadata": {},
   "source": [
    "## Tying it all together"
   ]
  },
  {
   "cell_type": "code",
   "execution_count": 29,
   "id": "b35d87a9",
   "metadata": {},
   "outputs": [
    {
     "name": "stdout",
     "output_type": "stream",
     "text": [
      "show all tables\n"
     ]
    },
    {
     "data": {
      "text/html": [
       "<div>\n",
       "<style scoped>\n",
       "    .dataframe tbody tr th:only-of-type {\n",
       "        vertical-align: middle;\n",
       "    }\n",
       "\n",
       "    .dataframe tbody tr th {\n",
       "        vertical-align: top;\n",
       "    }\n",
       "\n",
       "    .dataframe thead th {\n",
       "        text-align: right;\n",
       "    }\n",
       "</style>\n",
       "<table border=\"1\" class=\"dataframe\">\n",
       "  <thead>\n",
       "    <tr style=\"text-align: right;\">\n",
       "      <th></th>\n",
       "      <th>name</th>\n",
       "    </tr>\n",
       "  </thead>\n",
       "  <tbody>\n",
       "    <tr>\n",
       "      <th>0</th>\n",
       "      <td>Movie</td>\n",
       "    </tr>\n",
       "    <tr>\n",
       "      <th>1</th>\n",
       "      <td>House</td>\n",
       "    </tr>\n",
       "    <tr>\n",
       "      <th>2</th>\n",
       "      <td>Houses</td>\n",
       "    </tr>\n",
       "    <tr>\n",
       "      <th>3</th>\n",
       "      <td>actors</td>\n",
       "    </tr>\n",
       "    <tr>\n",
       "      <th>4</th>\n",
       "      <td>One</td>\n",
       "    </tr>\n",
       "  </tbody>\n",
       "</table>\n",
       "</div>"
      ],
      "text/plain": [
       "     name\n",
       "0   Movie\n",
       "1   House\n",
       "2  Houses\n",
       "3  actors\n",
       "4     One"
      ]
     },
     "execution_count": 29,
     "metadata": {},
     "output_type": "execute_result"
    }
   ],
   "source": [
    "# Taking user input\n",
    "user_query = input()\n",
    "\n",
    "# converting to sql\n",
    "sql = nl_to_sql(user_query)\n",
    "# Retriving pandas dataframe\n",
    "df = retrieve_data(\"example.db\", sql)\n",
    "df"
   ]
  },
  {
   "cell_type": "code",
   "execution_count": 32,
   "id": "c7fbdffb",
   "metadata": {},
   "outputs": [
    {
     "name": "stdout",
     "output_type": "stream",
     "text": [
      "create new table Two with columns first and second\n",
      "CREATE TABLE Two (\n",
      "  first TEXT,\n",
      "  second TEXT\n",
      ");\n",
      "\n"
     ]
    }
   ],
   "source": [
    "# Taking user input\n",
    "user_query = input()\n",
    "\n",
    "# converting to sql\n",
    "sql = nl_to_sql(user_query)\n",
    "print(sql)\n",
    "# Retriving pandas dataframe\n",
    "df = retrieve_data(\"example.db\", sql)\n",
    "\n",
    "df"
   ]
  },
  {
   "cell_type": "code",
   "execution_count": 33,
   "id": "2bbb6081",
   "metadata": {
    "scrolled": true
   },
   "outputs": [
    {
     "name": "stdout",
     "output_type": "stream",
     "text": [
      "show all tables\n",
      "SELECT name FROM sqlite_master WHERE type='table'\n",
      "\n"
     ]
    },
    {
     "data": {
      "text/html": [
       "<div>\n",
       "<style scoped>\n",
       "    .dataframe tbody tr th:only-of-type {\n",
       "        vertical-align: middle;\n",
       "    }\n",
       "\n",
       "    .dataframe tbody tr th {\n",
       "        vertical-align: top;\n",
       "    }\n",
       "\n",
       "    .dataframe thead th {\n",
       "        text-align: right;\n",
       "    }\n",
       "</style>\n",
       "<table border=\"1\" class=\"dataframe\">\n",
       "  <thead>\n",
       "    <tr style=\"text-align: right;\">\n",
       "      <th></th>\n",
       "      <th>name</th>\n",
       "    </tr>\n",
       "  </thead>\n",
       "  <tbody>\n",
       "    <tr>\n",
       "      <th>0</th>\n",
       "      <td>Movie</td>\n",
       "    </tr>\n",
       "    <tr>\n",
       "      <th>1</th>\n",
       "      <td>House</td>\n",
       "    </tr>\n",
       "    <tr>\n",
       "      <th>2</th>\n",
       "      <td>Houses</td>\n",
       "    </tr>\n",
       "    <tr>\n",
       "      <th>3</th>\n",
       "      <td>actors</td>\n",
       "    </tr>\n",
       "    <tr>\n",
       "      <th>4</th>\n",
       "      <td>One</td>\n",
       "    </tr>\n",
       "    <tr>\n",
       "      <th>5</th>\n",
       "      <td>Two</td>\n",
       "    </tr>\n",
       "  </tbody>\n",
       "</table>\n",
       "</div>"
      ],
      "text/plain": [
       "     name\n",
       "0   Movie\n",
       "1   House\n",
       "2  Houses\n",
       "3  actors\n",
       "4     One\n",
       "5     Two"
      ]
     },
     "execution_count": 33,
     "metadata": {},
     "output_type": "execute_result"
    }
   ],
   "source": [
    "# Taking user input\n",
    "user_query = input()\n",
    "\n",
    "# converting to sql\n",
    "sql = nl_to_sql(user_query)\n",
    "print(sql)\n",
    "# Retriving pandas dataframe\n",
    "df = retrieve_data(\"example.db\", sql)\n",
    "\n",
    "df"
   ]
  },
  {
   "cell_type": "code",
   "execution_count": 37,
   "id": "bb8f8a97",
   "metadata": {},
   "outputs": [
    {
     "name": "stdout",
     "output_type": "stream",
     "text": [
      "add values(1,2) to Table Two\n",
      "INSERT INTO Two (first, second) VALUES ('1', '2');\n",
      "\n",
      "\n",
      "\n"
     ]
    }
   ],
   "source": [
    "# Taking user input\n",
    "user_query = input()\n",
    "\n",
    "# converting to sql\n",
    "sql = nl_to_sql(user_query)\n",
    "print(sql)\n",
    "# Retriving pandas dataframe\n",
    "df = retrieve_data(\"example.db\", sql)\n",
    "\n",
    "df"
   ]
  },
  {
   "cell_type": "code",
   "execution_count": 38,
   "id": "bc0185b5",
   "metadata": {},
   "outputs": [
    {
     "name": "stdout",
     "output_type": "stream",
     "text": [
      "show all rows in Two\n",
      "SELECT * FROM Two;\n",
      "\n",
      "\n",
      "\n"
     ]
    },
    {
     "data": {
      "text/html": [
       "<div>\n",
       "<style scoped>\n",
       "    .dataframe tbody tr th:only-of-type {\n",
       "        vertical-align: middle;\n",
       "    }\n",
       "\n",
       "    .dataframe tbody tr th {\n",
       "        vertical-align: top;\n",
       "    }\n",
       "\n",
       "    .dataframe thead th {\n",
       "        text-align: right;\n",
       "    }\n",
       "</style>\n",
       "<table border=\"1\" class=\"dataframe\">\n",
       "  <thead>\n",
       "    <tr style=\"text-align: right;\">\n",
       "      <th></th>\n",
       "      <th>first</th>\n",
       "      <th>second</th>\n",
       "    </tr>\n",
       "  </thead>\n",
       "  <tbody>\n",
       "    <tr>\n",
       "      <th>0</th>\n",
       "      <td>1</td>\n",
       "      <td>2</td>\n",
       "    </tr>\n",
       "  </tbody>\n",
       "</table>\n",
       "</div>"
      ],
      "text/plain": [
       "  first second\n",
       "0     1      2"
      ]
     },
     "execution_count": 38,
     "metadata": {},
     "output_type": "execute_result"
    }
   ],
   "source": [
    "# Taking user input\n",
    "user_query = input()\n",
    "\n",
    "# converting to sql\n",
    "sql = nl_to_sql(user_query)\n",
    "print(sql)\n",
    "# Retriving pandas dataframe\n",
    "df = retrieve_data(\"example.db\", sql)\n",
    "\n",
    "df"
   ]
  },
  {
   "cell_type": "code",
   "execution_count": 40,
   "id": "b77a8e69",
   "metadata": {},
   "outputs": [
    {
     "name": "stdout",
     "output_type": "stream",
     "text": [
      "add new table named four with columns one and two\n",
      "CREATE TABLE four (\n",
      "  one TEXT,\n",
      "  two TEXT\n",
      ");\n",
      "\n",
      "\n",
      "\n"
     ]
    }
   ],
   "source": [
    "# Taking user input\n",
    "user_query = input()\n",
    "\n",
    "# converting to sql\n",
    "sql = nl_to_sql(user_query)\n",
    "print(sql)\n",
    "# Retriving pandas dataframe\n",
    "df = retrieve_data(\"example.db\", sql)\n",
    "\n",
    "df"
   ]
  },
  {
   "cell_type": "code",
   "execution_count": 53,
   "id": "f8662ac1",
   "metadata": {
    "scrolled": false
   },
   "outputs": [
    {
     "name": "stdout",
     "output_type": "stream",
     "text": [
      "add table named movie1 with columns Title, Year and Score\n",
      "CREATE TABLE movie1 (\n",
      "  Title TEXT,\n",
      "  Year INTEGER,\n",
      "  Score REAL\n",
      ");\n",
      "\n",
      "\n",
      "\n"
     ]
    }
   ],
   "source": [
    "user_query = input()\n",
    "\n",
    "# converting to sql\n",
    "sql = nl_to_sql(user_query)\n",
    "print(sql)\n",
    "# Retriving pandas dataframe\n",
    "df = retrieve_data(\"db1.db\", sql)\n",
    "\n",
    "df"
   ]
  },
  {
   "cell_type": "code",
   "execution_count": 61,
   "id": "582201aa",
   "metadata": {
    "scrolled": false
   },
   "outputs": [
    {
     "name": "stdout",
     "output_type": "stream",
     "text": [
      "add following values to the table (\"The Shawshank Redemption\", 1994, 9.3), (\"The Godfather\", 1972, 9.2), (\"The Dark Knight\", 2008, 9.0), (\"Pulp Fiction\", 1994, 8.9), (\"Schindlers List\", 1993, 9.0), (\"The Lord of the Rings: The Return of the King\", 2003, 8.9), (\"Forrest Gump\", 1994, 8.8), (\"Inception\", 2010, 8.8), (\"Fight Club\", 1999, 8.8), (\"The Matrix\", 1999, 8.7), (\"The Empire Strikes Back\", 1980, 8.7), (\"Interstellar\", 2014, 8.6), (\"Parasite\", 2019, 8.5), (\"Gladiator\", 2000, 8.5), (\"Saving Private Ryan\", 1998, 8.6), (\"The Lion King\", 1994, 8.5), (\"The Green Mile\", 1999, 8.6), (\"Avengers: Endgame\", 2019, 8.4), (\"Braveheart\", 1995, 8.4), (\"The Departed\", 2006, 8.5)\n",
      "INSERT INTO movie1 (Title, Year, Score) VALUES\n",
      "  ('The Shawshank Redemption', 1994, 9.3),\n",
      "  ('The Godfather', 1972, 9.2),\n",
      "  ('The Dark Knight', 2008, 9.0),\n",
      "  ('Pulp Fiction', 1994, 8.9),\n",
      "  ('Schindlers List', 1993, 9.0),\n",
      "  ('The Lord of the Rings: The Return of the King', 2003, 8.9),\n",
      "  ('Forrest Gump', 1994, 8.8),\n",
      "  ('Inception', 2010, 8.8),\n",
      "  ('Fight Club', 1999, 8.8),\n",
      "  ('The Matrix', 1999, 8.7),\n",
      "  ('The Empire Strikes Back', 1980, 8.7),\n",
      "  ('Interstellar', 2014, 8.6),\n",
      "  ('Parasite', 2019, 8.5),\n",
      "  ('Gladiator', 2000, 8.5),\n",
      "  ('Saving Private Ryan', 1998, 8.6),\n",
      "  ('The Lion King', 1994, 8.5),\n",
      "  ('The Green Mile', 1999, 8.6),\n",
      "  ('Avengers: Endgame', 2019, 8.4),\n",
      "  ('Braveheart', 1995, 8.4),\n",
      "  ('The Departed', 2006, 8.5);\n",
      "\n",
      "\n",
      "\n"
     ]
    }
   ],
   "source": [
    "user_query = input()\n",
    "\n",
    "# converting to sql\n",
    "sql = nl_to_sql(user_query)\n",
    "print(sql)\n",
    "# Retriving pandas dataframe\n",
    "df = retrieve_data(\"db1.db\", sql)\n",
    "\n",
    "df"
   ]
  },
  {
   "cell_type": "code",
   "execution_count": 70,
   "id": "9d5ee8c0",
   "metadata": {},
   "outputs": [
    {
     "name": "stdout",
     "output_type": "stream",
     "text": [
      "detele database db1\n",
      "DROP DATABASE db1\n",
      "\n"
     ]
    },
    {
     "ename": "OperationalError",
     "evalue": "near \"DATABASE\": syntax error",
     "output_type": "error",
     "traceback": [
      "\u001b[1;31m---------------------------------------------------------------------------\u001b[0m",
      "\u001b[1;31mOperationalError\u001b[0m                          Traceback (most recent call last)",
      "Cell \u001b[1;32mIn[70], line 7\u001b[0m\n\u001b[0;32m      5\u001b[0m \u001b[38;5;28mprint\u001b[39m(sql)\n\u001b[0;32m      6\u001b[0m \u001b[38;5;66;03m# Retriving pandas dataframe\u001b[39;00m\n\u001b[1;32m----> 7\u001b[0m df \u001b[38;5;241m=\u001b[39m retrieve_data(\u001b[38;5;124m\"\u001b[39m\u001b[38;5;124mdb1.db\u001b[39m\u001b[38;5;124m\"\u001b[39m, sql)\n\u001b[0;32m      9\u001b[0m df\n",
      "Cell \u001b[1;32mIn[36], line 14\u001b[0m, in \u001b[0;36mretrieve_data\u001b[1;34m(db_name, query)\u001b[0m\n\u001b[0;32m     12\u001b[0m cur \u001b[38;5;241m=\u001b[39m connection\u001b[38;5;241m.\u001b[39mcursor()\n\u001b[0;32m     13\u001b[0m \u001b[38;5;66;03m# Executing SQL query on the databse\u001b[39;00m\n\u001b[1;32m---> 14\u001b[0m res \u001b[38;5;241m=\u001b[39m cur\u001b[38;5;241m.\u001b[39mexecute(query)\n\u001b[0;32m     15\u001b[0m \u001b[38;5;66;03m# Comit\u001b[39;00m\n\u001b[0;32m     16\u001b[0m connection\u001b[38;5;241m.\u001b[39mcommit()\n",
      "\u001b[1;31mOperationalError\u001b[0m: near \"DATABASE\": syntax error"
     ]
    }
   ],
   "source": [
    "user_query = input()\n",
    "\n",
    "# converting to sql\n",
    "sql = nl_to_sql(user_query)\n",
    "print(sql)\n",
    "# Retriving pandas dataframe\n",
    "df = retrieve_data(\"db1.db\", sql)\n",
    "\n",
    "df"
   ]
  },
  {
   "cell_type": "code",
   "execution_count": 56,
   "id": "1315432e",
   "metadata": {},
   "outputs": [],
   "source": [
    "connection = sqlite3.connect(\"db1.db\")"
   ]
  },
  {
   "cell_type": "code",
   "execution_count": 58,
   "id": "5acfd79b",
   "metadata": {},
   "outputs": [],
   "source": [
    "cur = connection.cursor()"
   ]
  },
  {
   "cell_type": "code",
   "execution_count": 60,
   "id": "b8b96c8c",
   "metadata": {},
   "outputs": [
    {
     "ename": "OperationalError",
     "evalue": "near \"s\": syntax error",
     "output_type": "error",
     "traceback": [
      "\u001b[1;31m---------------------------------------------------------------------------\u001b[0m",
      "\u001b[1;31mOperationalError\u001b[0m                          Traceback (most recent call last)",
      "Cell \u001b[1;32mIn[60], line 1\u001b[0m\n\u001b[1;32m----> 1\u001b[0m cur\u001b[38;5;241m.\u001b[39mexecutescript(sql)\n",
      "\u001b[1;31mOperationalError\u001b[0m: near \"s\": syntax error"
     ]
    }
   ],
   "source": [
    "cur.execute(sql)"
   ]
  },
  {
   "cell_type": "code",
   "execution_count": null,
   "id": "427e6ec3",
   "metadata": {},
   "outputs": [],
   "source": []
  },
  {
   "cell_type": "code",
   "execution_count": null,
   "id": "0122e6b9",
   "metadata": {},
   "outputs": [],
   "source": []
  },
  {
   "cell_type": "code",
   "execution_count": null,
   "id": "90ccdce2",
   "metadata": {},
   "outputs": [],
   "source": []
  },
  {
   "cell_type": "code",
   "execution_count": null,
   "id": "d95f2503",
   "metadata": {},
   "outputs": [],
   "source": []
  },
  {
   "cell_type": "code",
   "execution_count": null,
   "id": "56f85c82",
   "metadata": {},
   "outputs": [],
   "source": []
  },
  {
   "cell_type": "code",
   "execution_count": null,
   "id": "bca0ac3e",
   "metadata": {},
   "outputs": [],
   "source": []
  },
  {
   "cell_type": "code",
   "execution_count": null,
   "id": "680f232f",
   "metadata": {},
   "outputs": [],
   "source": []
  },
  {
   "cell_type": "code",
   "execution_count": null,
   "id": "34caee58",
   "metadata": {},
   "outputs": [],
   "source": []
  },
  {
   "cell_type": "code",
   "execution_count": null,
   "id": "bbba8799",
   "metadata": {},
   "outputs": [],
   "source": []
  },
  {
   "cell_type": "code",
   "execution_count": null,
   "id": "4d709622",
   "metadata": {},
   "outputs": [],
   "source": []
  },
  {
   "cell_type": "code",
   "execution_count": null,
   "id": "a294c4fb",
   "metadata": {},
   "outputs": [],
   "source": []
  },
  {
   "cell_type": "code",
   "execution_count": 52,
   "id": "af5418f5",
   "metadata": {},
   "outputs": [
    {
     "name": "stdout",
     "output_type": "stream",
     "text": [
      "show all tables\n",
      "SELECT name FROM sqlite_master WHERE type='table'\n",
      "\n"
     ]
    },
    {
     "data": {
      "text/html": [
       "<div>\n",
       "<style scoped>\n",
       "    .dataframe tbody tr th:only-of-type {\n",
       "        vertical-align: middle;\n",
       "    }\n",
       "\n",
       "    .dataframe tbody tr th {\n",
       "        vertical-align: top;\n",
       "    }\n",
       "\n",
       "    .dataframe thead th {\n",
       "        text-align: right;\n",
       "    }\n",
       "</style>\n",
       "<table border=\"1\" class=\"dataframe\">\n",
       "  <thead>\n",
       "    <tr style=\"text-align: right;\">\n",
       "      <th></th>\n",
       "      <th>name</th>\n",
       "    </tr>\n",
       "  </thead>\n",
       "  <tbody>\n",
       "    <tr>\n",
       "      <th>0</th>\n",
       "      <td>movie</td>\n",
       "    </tr>\n",
       "  </tbody>\n",
       "</table>\n",
       "</div>"
      ],
      "text/plain": [
       "    name\n",
       "0  movie"
      ]
     },
     "execution_count": 52,
     "metadata": {},
     "output_type": "execute_result"
    }
   ],
   "source": [
    "user_query = input()\n",
    "\n",
    "# converting to sql\n",
    "sql = nl_to_sql(user_query)\n",
    "print(sql)\n",
    "# Retriving pandas dataframe\n",
    "df = retrieve_data(\"db1.db\", sql)\n",
    "\n",
    "df"
   ]
  },
  {
   "cell_type": "code",
   "execution_count": 49,
   "id": "2e03cbb8",
   "metadata": {},
   "outputs": [
    {
     "ename": "OperationalError",
     "evalue": "near \")\": syntax error",
     "output_type": "error",
     "traceback": [
      "\u001b[1;31m---------------------------------------------------------------------------\u001b[0m",
      "\u001b[1;31mOperationalError\u001b[0m                          Traceback (most recent call last)",
      "Cell \u001b[1;32mIn[49], line 6\u001b[0m\n\u001b[0;32m      4\u001b[0m cur \u001b[38;5;241m=\u001b[39m connection\u001b[38;5;241m.\u001b[39mcursor()\n\u001b[0;32m      5\u001b[0m \u001b[38;5;66;03m# Executing SQL query on the databse\u001b[39;00m\n\u001b[1;32m----> 6\u001b[0m res \u001b[38;5;241m=\u001b[39m cur\u001b[38;5;241m.\u001b[39mexecute(\u001b[38;5;124m\"\"\"\u001b[39m\u001b[38;5;124mCREATE TABLE six (\u001b[39m\n\u001b[0;32m      7\u001b[0m \u001b[38;5;124m  \u001b[39m\n\u001b[0;32m      8\u001b[0m \u001b[38;5;124m);\u001b[39m\u001b[38;5;124m\"\"\"\u001b[39m)\n\u001b[0;32m      9\u001b[0m \u001b[38;5;66;03m# Comit\u001b[39;00m\n\u001b[0;32m     10\u001b[0m connection\u001b[38;5;241m.\u001b[39mcommit()\n",
      "\u001b[1;31mOperationalError\u001b[0m: near \")\": syntax error"
     ]
    }
   ],
   "source": [
    "# Connecting to Database\n",
    "connection = sqlite3.connect(\"example.db\")\n",
    "# Creating database Cursor\n",
    "cur = connection.cursor()\n",
    "# Executing SQL query on the databse\n",
    "res = cur.execute(\"\"\"CREATE TABLE six (\n",
    "  \n",
    ");\"\"\")\n",
    "# Comit\n",
    "connection.commit()"
   ]
  },
  {
   "cell_type": "code",
   "execution_count": null,
   "id": "5c75db29",
   "metadata": {},
   "outputs": [],
   "source": []
  },
  {
   "cell_type": "code",
   "execution_count": null,
   "id": "517dc8a1",
   "metadata": {},
   "outputs": [],
   "source": []
  },
  {
   "cell_type": "code",
   "execution_count": null,
   "id": "272db9f6",
   "metadata": {},
   "outputs": [],
   "source": []
  },
  {
   "cell_type": "code",
   "execution_count": null,
   "id": "1c46b241",
   "metadata": {},
   "outputs": [],
   "source": [
    "from google.generativeai import GenerativeModel, ChatSession"
   ]
  },
  {
   "cell_type": "code",
   "execution_count": 12,
   "id": "0c5db7a2",
   "metadata": {},
   "outputs": [],
   "source": [
    "connection = sqlite3.connect(\"example.db\")"
   ]
  },
  {
   "cell_type": "code",
   "execution_count": 13,
   "id": "358f0815",
   "metadata": {},
   "outputs": [
    {
     "data": {
      "text/plain": [
       "<sqlite3.Connection at 0x1300621f880>"
      ]
     },
     "execution_count": 13,
     "metadata": {},
     "output_type": "execute_result"
    }
   ],
   "source": [
    "connection"
   ]
  },
  {
   "cell_type": "code",
   "execution_count": 14,
   "id": "7f0796f7",
   "metadata": {},
   "outputs": [],
   "source": [
    "cur = connection.cursor()"
   ]
  },
  {
   "cell_type": "code",
   "execution_count": 15,
   "id": "8a470dff",
   "metadata": {},
   "outputs": [
    {
     "data": {
      "text/plain": [
       "<sqlite3.Cursor at 0x1300ae18bc0>"
      ]
     },
     "execution_count": 15,
     "metadata": {},
     "output_type": "execute_result"
    }
   ],
   "source": [
    "cur"
   ]
  },
  {
   "cell_type": "code",
   "execution_count": 18,
   "id": "5d90f385",
   "metadata": {},
   "outputs": [],
   "source": [
    "res = cur.execute(\"CREATE TABLE Houses(Number TEXT, Year INT, Rooms REAL)\")"
   ]
  },
  {
   "cell_type": "code",
   "execution_count": 22,
   "id": "e241c044",
   "metadata": {},
   "outputs": [],
   "source": [
    "res.description"
   ]
  },
  {
   "cell_type": "code",
   "execution_count": 23,
   "id": "67f7c6a7",
   "metadata": {},
   "outputs": [],
   "source": [
    "connection.close()"
   ]
  },
  {
   "cell_type": "code",
   "execution_count": 26,
   "id": "cba1a7c6",
   "metadata": {},
   "outputs": [
    {
     "ename": "ProgrammingError",
     "evalue": "Cannot operate on a closed database.",
     "output_type": "error",
     "traceback": [
      "\u001b[1;31m---------------------------------------------------------------------------\u001b[0m",
      "\u001b[1;31mProgrammingError\u001b[0m                          Traceback (most recent call last)",
      "Cell \u001b[1;32mIn[26], line 1\u001b[0m\n\u001b[1;32m----> 1\u001b[0m res\u001b[38;5;241m.\u001b[39mfetchall()\n",
      "\u001b[1;31mProgrammingError\u001b[0m: Cannot operate on a closed database."
     ]
    }
   ],
   "source": [
    "res.fetchall()"
   ]
  },
  {
   "cell_type": "code",
   "execution_count": null,
   "id": "10c1a4d8",
   "metadata": {},
   "outputs": [],
   "source": []
  },
  {
   "cell_type": "code",
   "execution_count": null,
   "id": "48cbc1b6",
   "metadata": {},
   "outputs": [],
   "source": []
  },
  {
   "cell_type": "code",
   "execution_count": null,
   "id": "07f58a55",
   "metadata": {},
   "outputs": [],
   "source": []
  },
  {
   "cell_type": "code",
   "execution_count": null,
   "id": "752e4fc1",
   "metadata": {},
   "outputs": [],
   "source": []
  }
 ],
 "metadata": {
  "kernelspec": {
   "display_name": "Python 3 (ipykernel)",
   "language": "python",
   "name": "python3"
  },
  "language_info": {
   "codemirror_mode": {
    "name": "ipython",
    "version": 3
   },
   "file_extension": ".py",
   "mimetype": "text/x-python",
   "name": "python",
   "nbconvert_exporter": "python",
   "pygments_lexer": "ipython3",
   "version": "3.11.4"
  }
 },
 "nbformat": 4,
 "nbformat_minor": 5
}
